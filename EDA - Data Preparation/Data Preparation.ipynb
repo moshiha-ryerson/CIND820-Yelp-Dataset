{
 "cells": [
  {
   "cell_type": "markdown",
   "metadata": {},
   "source": [
    "### Data Preparation"
   ]
  },
  {
   "cell_type": "code",
   "execution_count": 1,
   "metadata": {},
   "outputs": [],
   "source": [
    "import pandas as pd \n",
    "import seaborn as sns \n",
    "import numpy as np \n",
    "import matplotlib.pyplot as plt\n",
    "from sklearn.preprocessing import LabelEncoder"
   ]
  },
  {
   "cell_type": "markdown",
   "metadata": {},
   "source": [
    "##### Import Dataset"
   ]
  },
  {
   "cell_type": "code",
   "execution_count": 2,
   "metadata": {},
   "outputs": [],
   "source": [
    "import pandas as pd\n",
    "df = pd.read_csv ('YelpDataset.csv', index_col = 0)"
   ]
  },
  {
   "cell_type": "markdown",
   "metadata": {},
   "source": [
    "##### Dataset Description "
   ]
  },
  {
   "cell_type": "code",
   "execution_count": 3,
   "metadata": {},
   "outputs": [
    {
     "name": "stdout",
     "output_type": "stream",
     "text": [
      "                 business_id  stars       city state  review_count  is_open  \\\n",
      "1     _-4KBW-tUcqeyg3MAMWKVg      3   Richmond    BC            67        1   \n",
      "2     _-4KBW-tUcqeyg3MAMWKVg      3   Richmond    BC            67        1   \n",
      "3     _-4KBW-tUcqeyg3MAMWKVg      3   Richmond    BC            67        1   \n",
      "4     _-4KBW-tUcqeyg3MAMWKVg      3   Richmond    BC            67        1   \n",
      "5     _3FBR7yCFDfeDeLsyWrPbQ      4  Vancouver    BC           211        1   \n",
      "...                      ...    ...        ...   ...           ...      ...   \n",
      "7417  ZZ7IXc-ZsyCPvdLPmHkPnw      4  Vancouver    BC            10        1   \n",
      "7418  ZZ7IXc-ZsyCPvdLPmHkPnw      4  Vancouver    BC            10        1   \n",
      "7419  ZZ7IXc-ZsyCPvdLPmHkPnw      4  Vancouver    BC            10        1   \n",
      "7420  ZzEcWEsSrT-klyErof4DMw      4  Vancouver    BC            32        1   \n",
      "7421  ZzEcWEsSrT-klyErof4DMw      4  Vancouver    BC            32        1   \n",
      "\n",
      "                                           categories               review_id  \\\n",
      "1     Chinese, Breakfast & Brunch, Restaurants, Cafes  vvbTNGUBjuwPy3-EJRKn3Q   \n",
      "2     Chinese, Breakfast & Brunch, Restaurants, Cafes  KIeZBzSyE01SdyDMvOamaQ   \n",
      "3     Chinese, Breakfast & Brunch, Restaurants, Cafes  jQjJNKnGLqsnNXTiYsBVbQ   \n",
      "4     Chinese, Breakfast & Brunch, Restaurants, Cafes  5RR5VRgFkWEIIJ7V-CDucw   \n",
      "5          Bars, Restaurants, Asian Fusion, Nightlife  r6cHt6WNakttlTsH-Xke2w   \n",
      "...                                               ...                     ...   \n",
      "7417        Food, Mediterranean, Donairs, Restaurants  mq5OV7Xi3MI21htGtuaNLw   \n",
      "7418        Food, Mediterranean, Donairs, Restaurants  ZYrJENX3Pvcw8zyKp5L4Qg   \n",
      "7419        Food, Mediterranean, Donairs, Restaurants  vIShSMtQosNEkzGMUB5PUQ   \n",
      "7420            Sandwiches, Pizza, Salad, Restaurants  wkuyZhd8JFxY2d6aIHBTuA   \n",
      "7421            Sandwiches, Pizza, Salad, Restaurants  xnHGLNnzT4SeaYBa33I0yg   \n",
      "\n",
      "                     date                                               text  \n",
      "1     2018-01-19 16:02:36  ok service\\nfood was ok nothing special\\nover ...  \n",
      "2     2018-03-25 07:37:32  Overpriced for what you get but great baked po...  \n",
      "3     2018-05-17 21:16:35  I agree with everyone that the price is on the...  \n",
      "4     2018-01-07 07:58:12  Great little Hong Kong styled cafe. The food i...  \n",
      "5     2018-09-23 15:48:42  This is a nice place in Chinatown Vancouver. I...  \n",
      "...                   ...                                                ...  \n",
      "7417  2018-03-30 03:14:30  I had chicken donair (after tax about $7) and ...  \n",
      "7418  2018-09-04 20:47:01  Newer donair shop. Decided to try since it loo...  \n",
      "7419  2018-03-02 05:00:34  After a dismal experience down the street at B...  \n",
      "7420  2018-10-28 06:58:47  Omo. How come I've never been here till now? I...  \n",
      "7421  2018-09-26 03:27:06  Very cheesy and the owner was super friendly :...  \n",
      "\n",
      "[7421 rows x 10 columns]\n"
     ]
    }
   ],
   "source": [
    "print(df)"
   ]
  },
  {
   "cell_type": "code",
   "execution_count": 4,
   "metadata": {},
   "outputs": [
    {
     "data": {
      "text/html": [
       "<div>\n",
       "<style scoped>\n",
       "    .dataframe tbody tr th:only-of-type {\n",
       "        vertical-align: middle;\n",
       "    }\n",
       "\n",
       "    .dataframe tbody tr th {\n",
       "        vertical-align: top;\n",
       "    }\n",
       "\n",
       "    .dataframe thead th {\n",
       "        text-align: right;\n",
       "    }\n",
       "</style>\n",
       "<table border=\"1\" class=\"dataframe\">\n",
       "  <thead>\n",
       "    <tr style=\"text-align: right;\">\n",
       "      <th></th>\n",
       "      <th>business_id</th>\n",
       "      <th>stars</th>\n",
       "      <th>city</th>\n",
       "      <th>state</th>\n",
       "      <th>review_count</th>\n",
       "      <th>is_open</th>\n",
       "      <th>categories</th>\n",
       "      <th>review_id</th>\n",
       "      <th>date</th>\n",
       "      <th>text</th>\n",
       "    </tr>\n",
       "  </thead>\n",
       "  <tbody>\n",
       "    <tr>\n",
       "      <th>1</th>\n",
       "      <td>_-4KBW-tUcqeyg3MAMWKVg</td>\n",
       "      <td>3</td>\n",
       "      <td>Richmond</td>\n",
       "      <td>BC</td>\n",
       "      <td>67</td>\n",
       "      <td>1</td>\n",
       "      <td>Chinese, Breakfast &amp; Brunch, Restaurants, Cafes</td>\n",
       "      <td>vvbTNGUBjuwPy3-EJRKn3Q</td>\n",
       "      <td>2018-01-19 16:02:36</td>\n",
       "      <td>ok service\\nfood was ok nothing special\\nover ...</td>\n",
       "    </tr>\n",
       "    <tr>\n",
       "      <th>2</th>\n",
       "      <td>_-4KBW-tUcqeyg3MAMWKVg</td>\n",
       "      <td>3</td>\n",
       "      <td>Richmond</td>\n",
       "      <td>BC</td>\n",
       "      <td>67</td>\n",
       "      <td>1</td>\n",
       "      <td>Chinese, Breakfast &amp; Brunch, Restaurants, Cafes</td>\n",
       "      <td>KIeZBzSyE01SdyDMvOamaQ</td>\n",
       "      <td>2018-03-25 07:37:32</td>\n",
       "      <td>Overpriced for what you get but great baked po...</td>\n",
       "    </tr>\n",
       "    <tr>\n",
       "      <th>3</th>\n",
       "      <td>_-4KBW-tUcqeyg3MAMWKVg</td>\n",
       "      <td>3</td>\n",
       "      <td>Richmond</td>\n",
       "      <td>BC</td>\n",
       "      <td>67</td>\n",
       "      <td>1</td>\n",
       "      <td>Chinese, Breakfast &amp; Brunch, Restaurants, Cafes</td>\n",
       "      <td>jQjJNKnGLqsnNXTiYsBVbQ</td>\n",
       "      <td>2018-05-17 21:16:35</td>\n",
       "      <td>I agree with everyone that the price is on the...</td>\n",
       "    </tr>\n",
       "    <tr>\n",
       "      <th>4</th>\n",
       "      <td>_-4KBW-tUcqeyg3MAMWKVg</td>\n",
       "      <td>3</td>\n",
       "      <td>Richmond</td>\n",
       "      <td>BC</td>\n",
       "      <td>67</td>\n",
       "      <td>1</td>\n",
       "      <td>Chinese, Breakfast &amp; Brunch, Restaurants, Cafes</td>\n",
       "      <td>5RR5VRgFkWEIIJ7V-CDucw</td>\n",
       "      <td>2018-01-07 07:58:12</td>\n",
       "      <td>Great little Hong Kong styled cafe. The food i...</td>\n",
       "    </tr>\n",
       "    <tr>\n",
       "      <th>5</th>\n",
       "      <td>_3FBR7yCFDfeDeLsyWrPbQ</td>\n",
       "      <td>4</td>\n",
       "      <td>Vancouver</td>\n",
       "      <td>BC</td>\n",
       "      <td>211</td>\n",
       "      <td>1</td>\n",
       "      <td>Bars, Restaurants, Asian Fusion, Nightlife</td>\n",
       "      <td>r6cHt6WNakttlTsH-Xke2w</td>\n",
       "      <td>2018-09-23 15:48:42</td>\n",
       "      <td>This is a nice place in Chinatown Vancouver. I...</td>\n",
       "    </tr>\n",
       "  </tbody>\n",
       "</table>\n",
       "</div>"
      ],
      "text/plain": [
       "              business_id  stars       city state  review_count  is_open  \\\n",
       "1  _-4KBW-tUcqeyg3MAMWKVg      3   Richmond    BC            67        1   \n",
       "2  _-4KBW-tUcqeyg3MAMWKVg      3   Richmond    BC            67        1   \n",
       "3  _-4KBW-tUcqeyg3MAMWKVg      3   Richmond    BC            67        1   \n",
       "4  _-4KBW-tUcqeyg3MAMWKVg      3   Richmond    BC            67        1   \n",
       "5  _3FBR7yCFDfeDeLsyWrPbQ      4  Vancouver    BC           211        1   \n",
       "\n",
       "                                        categories               review_id  \\\n",
       "1  Chinese, Breakfast & Brunch, Restaurants, Cafes  vvbTNGUBjuwPy3-EJRKn3Q   \n",
       "2  Chinese, Breakfast & Brunch, Restaurants, Cafes  KIeZBzSyE01SdyDMvOamaQ   \n",
       "3  Chinese, Breakfast & Brunch, Restaurants, Cafes  jQjJNKnGLqsnNXTiYsBVbQ   \n",
       "4  Chinese, Breakfast & Brunch, Restaurants, Cafes  5RR5VRgFkWEIIJ7V-CDucw   \n",
       "5       Bars, Restaurants, Asian Fusion, Nightlife  r6cHt6WNakttlTsH-Xke2w   \n",
       "\n",
       "                  date                                               text  \n",
       "1  2018-01-19 16:02:36  ok service\\nfood was ok nothing special\\nover ...  \n",
       "2  2018-03-25 07:37:32  Overpriced for what you get but great baked po...  \n",
       "3  2018-05-17 21:16:35  I agree with everyone that the price is on the...  \n",
       "4  2018-01-07 07:58:12  Great little Hong Kong styled cafe. The food i...  \n",
       "5  2018-09-23 15:48:42  This is a nice place in Chinatown Vancouver. I...  "
      ]
     },
     "execution_count": 4,
     "metadata": {},
     "output_type": "execute_result"
    }
   ],
   "source": [
    "df.head(5)"
   ]
  },
  {
   "cell_type": "markdown",
   "metadata": {},
   "source": [
    "##### Dataset Types "
   ]
  },
  {
   "cell_type": "code",
   "execution_count": 5,
   "metadata": {},
   "outputs": [
    {
     "name": "stdout",
     "output_type": "stream",
     "text": [
      "<class 'pandas.core.frame.DataFrame'>\n",
      "Int64Index: 7421 entries, 1 to 7421\n",
      "Data columns (total 10 columns):\n",
      " #   Column        Non-Null Count  Dtype \n",
      "---  ------        --------------  ----- \n",
      " 0   business_id   7421 non-null   object\n",
      " 1   stars         7421 non-null   int64 \n",
      " 2   city          7421 non-null   object\n",
      " 3   state         7421 non-null   object\n",
      " 4   review_count  7421 non-null   int64 \n",
      " 5   is_open       7421 non-null   int64 \n",
      " 6   categories    7421 non-null   object\n",
      " 7   review_id     7421 non-null   object\n",
      " 8   date          7421 non-null   object\n",
      " 9   text          7421 non-null   object\n",
      "dtypes: int64(3), object(7)\n",
      "memory usage: 637.7+ KB\n"
     ]
    }
   ],
   "source": [
    "df.info()"
   ]
  },
  {
   "cell_type": "markdown",
   "metadata": {},
   "source": [
    "##### Statistical Analysis of the Dataset "
   ]
  },
  {
   "cell_type": "code",
   "execution_count": 6,
   "metadata": {},
   "outputs": [
    {
     "data": {
      "text/html": [
       "<div>\n",
       "<style scoped>\n",
       "    .dataframe tbody tr th:only-of-type {\n",
       "        vertical-align: middle;\n",
       "    }\n",
       "\n",
       "    .dataframe tbody tr th {\n",
       "        vertical-align: top;\n",
       "    }\n",
       "\n",
       "    .dataframe thead th {\n",
       "        text-align: right;\n",
       "    }\n",
       "</style>\n",
       "<table border=\"1\" class=\"dataframe\">\n",
       "  <thead>\n",
       "    <tr style=\"text-align: right;\">\n",
       "      <th></th>\n",
       "      <th>stars</th>\n",
       "      <th>review_count</th>\n",
       "      <th>is_open</th>\n",
       "    </tr>\n",
       "  </thead>\n",
       "  <tbody>\n",
       "    <tr>\n",
       "      <th>count</th>\n",
       "      <td>7421.000000</td>\n",
       "      <td>7421.000000</td>\n",
       "      <td>7421.0</td>\n",
       "    </tr>\n",
       "    <tr>\n",
       "      <th>mean</th>\n",
       "      <td>3.852176</td>\n",
       "      <td>256.773885</td>\n",
       "      <td>1.0</td>\n",
       "    </tr>\n",
       "    <tr>\n",
       "      <th>std</th>\n",
       "      <td>0.492920</td>\n",
       "      <td>342.076862</td>\n",
       "      <td>0.0</td>\n",
       "    </tr>\n",
       "    <tr>\n",
       "      <th>min</th>\n",
       "      <td>1.000000</td>\n",
       "      <td>5.000000</td>\n",
       "      <td>1.0</td>\n",
       "    </tr>\n",
       "    <tr>\n",
       "      <th>25%</th>\n",
       "      <td>4.000000</td>\n",
       "      <td>66.000000</td>\n",
       "      <td>1.0</td>\n",
       "    </tr>\n",
       "    <tr>\n",
       "      <th>50%</th>\n",
       "      <td>4.000000</td>\n",
       "      <td>137.000000</td>\n",
       "      <td>1.0</td>\n",
       "    </tr>\n",
       "    <tr>\n",
       "      <th>75%</th>\n",
       "      <td>4.000000</td>\n",
       "      <td>303.000000</td>\n",
       "      <td>1.0</td>\n",
       "    </tr>\n",
       "    <tr>\n",
       "      <th>max</th>\n",
       "      <td>5.000000</td>\n",
       "      <td>2302.000000</td>\n",
       "      <td>1.0</td>\n",
       "    </tr>\n",
       "  </tbody>\n",
       "</table>\n",
       "</div>"
      ],
      "text/plain": [
       "             stars  review_count  is_open\n",
       "count  7421.000000   7421.000000   7421.0\n",
       "mean      3.852176    256.773885      1.0\n",
       "std       0.492920    342.076862      0.0\n",
       "min       1.000000      5.000000      1.0\n",
       "25%       4.000000     66.000000      1.0\n",
       "50%       4.000000    137.000000      1.0\n",
       "75%       4.000000    303.000000      1.0\n",
       "max       5.000000   2302.000000      1.0"
      ]
     },
     "execution_count": 6,
     "metadata": {},
     "output_type": "execute_result"
    }
   ],
   "source": [
    "df.describe()"
   ]
  },
  {
   "cell_type": "markdown",
   "metadata": {},
   "source": [
    "##### Count Value of Stars Attribute "
   ]
  },
  {
   "cell_type": "code",
   "execution_count": 7,
   "metadata": {},
   "outputs": [
    {
     "data": {
      "text/plain": [
       "4    5835\n",
       "3    1186\n",
       "5     302\n",
       "2      81\n",
       "1      17\n",
       "Name: stars, dtype: int64"
      ]
     },
     "execution_count": 7,
     "metadata": {},
     "output_type": "execute_result"
    }
   ],
   "source": [
    "df['stars'].value_counts()"
   ]
  },
  {
   "cell_type": "code",
   "execution_count": 8,
   "metadata": {},
   "outputs": [
    {
     "data": {
      "image/png": "[encoded data removed]",
      "text/plain": [
       "<Figure size 432x288 with 1 Axes>"
      ]
     },
     "metadata": {
      "needs_background": "light"
     },
     "output_type": "display_data"
    }
   ],
   "source": [
    "fig = plt.figure()\n",
    "ax = fig.add_axes([0, 0, 1, 1])\n",
    "labels = [\"4\", \"3\", \"5\", \"2\", \"1\"]\n",
    "x = df['stars'].value_counts()\n",
    "ax.bar(labels, x)\n",
    "ax.set_ylabel('Count')\n",
    "ax.set_xlabel('Star Rating')\n",
    "ax.set_title('Distribution of Class \"Stars\"')\n",
    "plt.savefig('output2.png', dpi = 250, bbox_inches = 'tight')\n",
    "plt.show()"
   ]
  },
  {
   "cell_type": "markdown",
   "metadata": {},
   "source": [
    "##### Identify Missing Values in Dataset"
   ]
  },
  {
   "cell_type": "code",
   "execution_count": 9,
   "metadata": {},
   "outputs": [
    {
     "data": {
      "text/plain": [
       "business_id     0\n",
       "stars           0\n",
       "city            0\n",
       "state           0\n",
       "review_count    0\n",
       "is_open         0\n",
       "categories      0\n",
       "review_id       0\n",
       "date            0\n",
       "text            0\n",
       "dtype: int64"
      ]
     },
     "execution_count": 9,
     "metadata": {},
     "output_type": "execute_result"
    }
   ],
   "source": [
    "df.isna().sum()"
   ]
  },
  {
   "cell_type": "markdown",
   "metadata": {},
   "source": [
    ">###### No action needed, this dataset does not have missing values."
   ]
  },
  {
   "cell_type": "markdown",
   "metadata": {},
   "source": [
    "##### Extracting Month From Date Attribute "
   ]
  },
  {
   "cell_type": "code",
   "execution_count": 10,
   "metadata": {},
   "outputs": [
    {
     "data": {
      "text/plain": [
       "7     754\n",
       "8     740\n",
       "1     658\n",
       "4     639\n",
       "9     622\n",
       "6     610\n",
       "5     607\n",
       "3     599\n",
       "10    586\n",
       "11    550\n",
       "12    545\n",
       "2     511\n",
       "Name: month, dtype: int64"
      ]
     },
     "execution_count": 10,
     "metadata": {},
     "output_type": "execute_result"
    }
   ],
   "source": [
    "month = []\n",
    "\n",
    "for i in range(0, len(df)):\n",
    "    month.append(int(df.iloc[i].date[5:7]))\n",
    "\n",
    "df['month'] = month\n",
    "\n",
    "df['month'].value_counts()"
   ]
  },
  {
   "cell_type": "markdown",
   "metadata": {},
   "source": [
    "##### Data Type Transformation "
   ]
  },
  {
   "cell_type": "code",
   "execution_count": 11,
   "metadata": {},
   "outputs": [],
   "source": [
    "def convert(data):\n",
    "    encode = LabelEncoder()\n",
    "    data['business_id'] = encode.fit_transform(data.business_id)\n",
    "    data['city'] = encode.fit_transform(data.city)\n",
    "    data['state'] = encode.fit_transform(data.state)\n",
    "    data['categories'] = encode.fit_transform(data.categories)\n",
    "    data['review_id'] = encode.fit_transform(data.review_id)\n",
    "    data['date'] = encode.fit_transform(data.date)\n",
    "    data['text'] = encode.fit_transform(data.text)\n",
    "    data=data.fillna(-999)\n",
    "    return data\n",
    "\n",
    "df = convert(df)\n",
    "df = convert(df)"
   ]
  },
  {
   "cell_type": "markdown",
   "metadata": {},
   "source": [
    "##### Dataset with Modified Values "
   ]
  },
  {
   "cell_type": "code",
   "execution_count": 12,
   "metadata": {},
   "outputs": [
    {
     "name": "stdout",
     "output_type": "stream",
     "text": [
      "<class 'pandas.core.frame.DataFrame'>\n",
      "Int64Index: 7421 entries, 1 to 7421\n",
      "Data columns (total 11 columns):\n",
      " #   Column        Non-Null Count  Dtype\n",
      "---  ------        --------------  -----\n",
      " 0   business_id   7421 non-null   int64\n",
      " 1   stars         7421 non-null   int64\n",
      " 2   city          7421 non-null   int64\n",
      " 3   state         7421 non-null   int64\n",
      " 4   review_count  7421 non-null   int64\n",
      " 5   is_open       7421 non-null   int64\n",
      " 6   categories    7421 non-null   int64\n",
      " 7   review_id     7421 non-null   int64\n",
      " 8   date          7421 non-null   int64\n",
      " 9   text          7421 non-null   int64\n",
      " 10  month         7421 non-null   int64\n",
      "dtypes: int64(11)\n",
      "memory usage: 695.7 KB\n"
     ]
    }
   ],
   "source": [
    "df.info()"
   ]
  },
  {
   "cell_type": "code",
   "execution_count": 13,
   "metadata": {},
   "outputs": [
    {
     "data": {
      "text/html": [
       "<div>\n",
       "<style scoped>\n",
       "    .dataframe tbody tr th:only-of-type {\n",
       "        vertical-align: middle;\n",
       "    }\n",
       "\n",
       "    .dataframe tbody tr th {\n",
       "        vertical-align: top;\n",
       "    }\n",
       "\n",
       "    .dataframe thead th {\n",
       "        text-align: right;\n",
       "    }\n",
       "</style>\n",
       "<table border=\"1\" class=\"dataframe\">\n",
       "  <thead>\n",
       "    <tr style=\"text-align: right;\">\n",
       "      <th></th>\n",
       "      <th>business_id</th>\n",
       "      <th>stars</th>\n",
       "      <th>city</th>\n",
       "      <th>state</th>\n",
       "      <th>review_count</th>\n",
       "      <th>is_open</th>\n",
       "      <th>categories</th>\n",
       "      <th>review_id</th>\n",
       "      <th>date</th>\n",
       "      <th>text</th>\n",
       "      <th>month</th>\n",
       "    </tr>\n",
       "  </thead>\n",
       "  <tbody>\n",
       "    <tr>\n",
       "      <th>count</th>\n",
       "      <td>7421.000000</td>\n",
       "      <td>7421.000000</td>\n",
       "      <td>7421.000000</td>\n",
       "      <td>7421.0</td>\n",
       "      <td>7421.000000</td>\n",
       "      <td>7421.0</td>\n",
       "      <td>7421.000000</td>\n",
       "      <td>7421.000000</td>\n",
       "      <td>7421.000000</td>\n",
       "      <td>7421.000000</td>\n",
       "      <td>7421.000000</td>\n",
       "    </tr>\n",
       "    <tr>\n",
       "      <th>mean</th>\n",
       "      <td>730.908907</td>\n",
       "      <td>3.852176</td>\n",
       "      <td>12.640210</td>\n",
       "      <td>0.0</td>\n",
       "      <td>256.773885</td>\n",
       "      <td>1.0</td>\n",
       "      <td>573.972645</td>\n",
       "      <td>3710.000000</td>\n",
       "      <td>3709.625657</td>\n",
       "      <td>3706.189328</td>\n",
       "      <td>6.464627</td>\n",
       "    </tr>\n",
       "    <tr>\n",
       "      <th>std</th>\n",
       "      <td>422.489017</td>\n",
       "      <td>0.492920</td>\n",
       "      <td>4.503837</td>\n",
       "      <td>0.0</td>\n",
       "      <td>342.076862</td>\n",
       "      <td>0.0</td>\n",
       "      <td>329.773836</td>\n",
       "      <td>2142.402507</td>\n",
       "      <td>2141.996831</td>\n",
       "      <td>2139.824393</td>\n",
       "      <td>3.357334</td>\n",
       "    </tr>\n",
       "    <tr>\n",
       "      <th>min</th>\n",
       "      <td>0.000000</td>\n",
       "      <td>1.000000</td>\n",
       "      <td>0.000000</td>\n",
       "      <td>0.0</td>\n",
       "      <td>5.000000</td>\n",
       "      <td>1.0</td>\n",
       "      <td>0.000000</td>\n",
       "      <td>0.000000</td>\n",
       "      <td>0.000000</td>\n",
       "      <td>0.000000</td>\n",
       "      <td>1.000000</td>\n",
       "    </tr>\n",
       "    <tr>\n",
       "      <th>25%</th>\n",
       "      <td>376.000000</td>\n",
       "      <td>4.000000</td>\n",
       "      <td>12.000000</td>\n",
       "      <td>0.0</td>\n",
       "      <td>66.000000</td>\n",
       "      <td>1.0</td>\n",
       "      <td>286.000000</td>\n",
       "      <td>1855.000000</td>\n",
       "      <td>1855.000000</td>\n",
       "      <td>1854.000000</td>\n",
       "      <td>4.000000</td>\n",
       "    </tr>\n",
       "    <tr>\n",
       "      <th>50%</th>\n",
       "      <td>714.000000</td>\n",
       "      <td>4.000000</td>\n",
       "      <td>15.000000</td>\n",
       "      <td>0.0</td>\n",
       "      <td>137.000000</td>\n",
       "      <td>1.0</td>\n",
       "      <td>551.000000</td>\n",
       "      <td>3710.000000</td>\n",
       "      <td>3710.000000</td>\n",
       "      <td>3706.000000</td>\n",
       "      <td>7.000000</td>\n",
       "    </tr>\n",
       "    <tr>\n",
       "      <th>75%</th>\n",
       "      <td>1095.000000</td>\n",
       "      <td>4.000000</td>\n",
       "      <td>15.000000</td>\n",
       "      <td>0.0</td>\n",
       "      <td>303.000000</td>\n",
       "      <td>1.0</td>\n",
       "      <td>871.000000</td>\n",
       "      <td>5565.000000</td>\n",
       "      <td>5564.000000</td>\n",
       "      <td>5558.000000</td>\n",
       "      <td>9.000000</td>\n",
       "    </tr>\n",
       "    <tr>\n",
       "      <th>max</th>\n",
       "      <td>1435.000000</td>\n",
       "      <td>5.000000</td>\n",
       "      <td>16.000000</td>\n",
       "      <td>0.0</td>\n",
       "      <td>2302.000000</td>\n",
       "      <td>1.0</td>\n",
       "      <td>1100.000000</td>\n",
       "      <td>7420.000000</td>\n",
       "      <td>7419.000000</td>\n",
       "      <td>7413.000000</td>\n",
       "      <td>12.000000</td>\n",
       "    </tr>\n",
       "  </tbody>\n",
       "</table>\n",
       "</div>"
      ],
      "text/plain": [
       "       business_id        stars         city   state  review_count  is_open  \\\n",
       "count  7421.000000  7421.000000  7421.000000  7421.0   7421.000000   7421.0   \n",
       "mean    730.908907     3.852176    12.640210     0.0    256.773885      1.0   \n",
       "std     422.489017     0.492920     4.503837     0.0    342.076862      0.0   \n",
       "min       0.000000     1.000000     0.000000     0.0      5.000000      1.0   \n",
       "25%     376.000000     4.000000    12.000000     0.0     66.000000      1.0   \n",
       "50%     714.000000     4.000000    15.000000     0.0    137.000000      1.0   \n",
       "75%    1095.000000     4.000000    15.000000     0.0    303.000000      1.0   \n",
       "max    1435.000000     5.000000    16.000000     0.0   2302.000000      1.0   \n",
       "\n",
       "        categories    review_id         date         text        month  \n",
       "count  7421.000000  7421.000000  7421.000000  7421.000000  7421.000000  \n",
       "mean    573.972645  3710.000000  3709.625657  3706.189328     6.464627  \n",
       "std     329.773836  2142.402507  2141.996831  2139.824393     3.357334  \n",
       "min       0.000000     0.000000     0.000000     0.000000     1.000000  \n",
       "25%     286.000000  1855.000000  1855.000000  1854.000000     4.000000  \n",
       "50%     551.000000  3710.000000  3710.000000  3706.000000     7.000000  \n",
       "75%     871.000000  5565.000000  5564.000000  5558.000000     9.000000  \n",
       "max    1100.000000  7420.000000  7419.000000  7413.000000    12.000000  "
      ]
     },
     "execution_count": 13,
     "metadata": {},
     "output_type": "execute_result"
    }
   ],
   "source": [
    "df.describe()"
   ]
  },
  {
   "cell_type": "markdown",
   "metadata": {},
   "source": [
    "##### Correlation Analysis "
   ]
  },
  {
   "cell_type": "code",
   "execution_count": 14,
   "metadata": {},
   "outputs": [
    {
     "name": "stdout",
     "output_type": "stream",
     "text": [
      "              business_id     stars      city  state  review_count  is_open  \\\n",
      "business_id      1.000000  0.007146  0.057074    NaN      0.038179      NaN   \n",
      "stars            0.007146  1.000000  0.123921    NaN      0.139180      NaN   \n",
      "city             0.057074  0.123921  1.000000    NaN      0.243711      NaN   \n",
      "state                 NaN       NaN       NaN    NaN           NaN      NaN   \n",
      "review_count     0.038179  0.139180  0.243711    NaN      1.000000      NaN   \n",
      "is_open               NaN       NaN       NaN    NaN           NaN      NaN   \n",
      "categories       0.019585 -0.027075 -0.010481    NaN     -0.120060      NaN   \n",
      "review_id        0.007440 -0.002251 -0.006815    NaN     -0.000257      NaN   \n",
      "date             0.008044  0.011495  0.004474    NaN     -0.000294      NaN   \n",
      "text             0.016763 -0.042705 -0.010314    NaN     -0.002612      NaN   \n",
      "month            0.007292  0.012761  0.003133    NaN      0.001831      NaN   \n",
      "\n",
      "              categories  review_id      date      text     month  \n",
      "business_id     0.019585   0.007440  0.008044  0.016763  0.007292  \n",
      "stars          -0.027075  -0.002251  0.011495 -0.042705  0.012761  \n",
      "city           -0.010481  -0.006815  0.004474 -0.010314  0.003133  \n",
      "state                NaN        NaN       NaN       NaN       NaN  \n",
      "review_count   -0.120060  -0.000257 -0.000294 -0.002612  0.001831  \n",
      "is_open              NaN        NaN       NaN       NaN       NaN  \n",
      "categories      1.000000   0.014122 -0.030623  0.003670 -0.029189  \n",
      "review_id       0.014122   1.000000 -0.012251  0.002587 -0.013396  \n",
      "date           -0.030623  -0.012251  1.000000 -0.032351  0.995850  \n",
      "text            0.003670   0.002587 -0.032351  1.000000 -0.033691  \n",
      "month          -0.029189  -0.013396  0.995850 -0.033691  1.000000  \n"
     ]
    }
   ],
   "source": [
    "correlation = df.corr()\n",
    "print(correlation)"
   ]
  },
  {
   "cell_type": "code",
   "execution_count": 15,
   "metadata": {},
   "outputs": [
    {
     "data": {
      "image/png": "[encoded data removed]",
      "text/plain": [
       "<Figure size 432x288 with 1 Axes>"
      ]
     },
     "metadata": {
      "needs_background": "light"
     },
     "output_type": "display_data"
    }
   ],
   "source": [
    "plt.scatter( x = 'review_count', y = 'stars', data = df)\n",
    "plt.title(\"Stars vs. Review Count\")\n",
    "plt.xlabel(\"Review Count\")\n",
    "plt.ylabel(\"Stars\")\n",
    "plt.savefig('output3.png', dpi = 250, bbox_inches = 'tight')"
   ]
  },
  {
   "cell_type": "markdown",
   "metadata": {},
   "source": [
    ">###### Correlation of attributes review count with stars"
   ]
  },
  {
   "cell_type": "markdown",
   "metadata": {},
   "source": [
    "##### Coefficient of Correlation "
   ]
  },
  {
   "cell_type": "code",
   "execution_count": 16,
   "metadata": {},
   "outputs": [
    {
     "data": {
      "text/plain": [
       "(0.13918006520614612, 2.0273007378850047e-33)"
      ]
     },
     "execution_count": 16,
     "metadata": {},
     "output_type": "execute_result"
    }
   ],
   "source": [
    "from scipy import stats \n",
    "stats.pearsonr(df['stars'], df['review_count'])"
   ]
  },
  {
   "cell_type": "markdown",
   "metadata": {},
   "source": [
    "##### Correlation Matrix"
   ]
  },
  {
   "cell_type": "code",
   "execution_count": 17,
   "metadata": {},
   "outputs": [
    {
     "data": {
      "image/png": "[encoded data removed]",
      "text/plain": [
       "<Figure size 720x720 with 2 Axes>"
      ]
     },
     "metadata": {
      "needs_background": "light"
     },
     "output_type": "display_data"
    }
   ],
   "source": [
    "matrix = np.triu(correlation)\n",
    "fig, ax = plt.subplots(figsize = (10,10))\n",
    "sns.heatmap(df.corr(), annot = True, ax = ax, fmt = '.1g', vmin = -1, vmax = 1, center = 0, mask = matrix, cmap = 'Blues')\n",
    "plt.savefig('output4.png', dpi = 250, bbox_inches = 'tight')\n",
    "plt.show()"
   ]
  },
  {
   "cell_type": "code",
   "execution_count": 18,
   "metadata": {},
   "outputs": [
    {
     "data": {
      "text/html": [
       "<div>\n",
       "<style scoped>\n",
       "    .dataframe tbody tr th:only-of-type {\n",
       "        vertical-align: middle;\n",
       "    }\n",
       "\n",
       "    .dataframe tbody tr th {\n",
       "        vertical-align: top;\n",
       "    }\n",
       "\n",
       "    .dataframe thead th {\n",
       "        text-align: right;\n",
       "    }\n",
       "</style>\n",
       "<table border=\"1\" class=\"dataframe\">\n",
       "  <thead>\n",
       "    <tr style=\"text-align: right;\">\n",
       "      <th></th>\n",
       "      <th>business_id</th>\n",
       "      <th>stars</th>\n",
       "      <th>city</th>\n",
       "      <th>state</th>\n",
       "      <th>review_count</th>\n",
       "      <th>is_open</th>\n",
       "      <th>categories</th>\n",
       "      <th>review_id</th>\n",
       "      <th>date</th>\n",
       "      <th>text</th>\n",
       "      <th>month</th>\n",
       "    </tr>\n",
       "  </thead>\n",
       "  <tbody>\n",
       "    <tr>\n",
       "      <th>business_id</th>\n",
       "      <td>1.00</td>\n",
       "      <td>0.01</td>\n",
       "      <td>0.06</td>\n",
       "      <td>NaN</td>\n",
       "      <td>0.04</td>\n",
       "      <td>NaN</td>\n",
       "      <td>0.02</td>\n",
       "      <td>0.01</td>\n",
       "      <td>0.01</td>\n",
       "      <td>0.02</td>\n",
       "      <td>0.01</td>\n",
       "    </tr>\n",
       "    <tr>\n",
       "      <th>stars</th>\n",
       "      <td>0.01</td>\n",
       "      <td>1.00</td>\n",
       "      <td>0.12</td>\n",
       "      <td>NaN</td>\n",
       "      <td>0.14</td>\n",
       "      <td>NaN</td>\n",
       "      <td>-0.03</td>\n",
       "      <td>-0.00</td>\n",
       "      <td>0.01</td>\n",
       "      <td>-0.04</td>\n",
       "      <td>0.01</td>\n",
       "    </tr>\n",
       "    <tr>\n",
       "      <th>city</th>\n",
       "      <td>0.06</td>\n",
       "      <td>0.12</td>\n",
       "      <td>1.00</td>\n",
       "      <td>NaN</td>\n",
       "      <td>0.24</td>\n",
       "      <td>NaN</td>\n",
       "      <td>-0.01</td>\n",
       "      <td>-0.01</td>\n",
       "      <td>0.00</td>\n",
       "      <td>-0.01</td>\n",
       "      <td>0.00</td>\n",
       "    </tr>\n",
       "    <tr>\n",
       "      <th>state</th>\n",
       "      <td>NaN</td>\n",
       "      <td>NaN</td>\n",
       "      <td>NaN</td>\n",
       "      <td>NaN</td>\n",
       "      <td>NaN</td>\n",
       "      <td>NaN</td>\n",
       "      <td>NaN</td>\n",
       "      <td>NaN</td>\n",
       "      <td>NaN</td>\n",
       "      <td>NaN</td>\n",
       "      <td>NaN</td>\n",
       "    </tr>\n",
       "    <tr>\n",
       "      <th>review_count</th>\n",
       "      <td>0.04</td>\n",
       "      <td>0.14</td>\n",
       "      <td>0.24</td>\n",
       "      <td>NaN</td>\n",
       "      <td>1.00</td>\n",
       "      <td>NaN</td>\n",
       "      <td>-0.12</td>\n",
       "      <td>-0.00</td>\n",
       "      <td>-0.00</td>\n",
       "      <td>-0.00</td>\n",
       "      <td>0.00</td>\n",
       "    </tr>\n",
       "    <tr>\n",
       "      <th>is_open</th>\n",
       "      <td>NaN</td>\n",
       "      <td>NaN</td>\n",
       "      <td>NaN</td>\n",
       "      <td>NaN</td>\n",
       "      <td>NaN</td>\n",
       "      <td>NaN</td>\n",
       "      <td>NaN</td>\n",
       "      <td>NaN</td>\n",
       "      <td>NaN</td>\n",
       "      <td>NaN</td>\n",
       "      <td>NaN</td>\n",
       "    </tr>\n",
       "    <tr>\n",
       "      <th>categories</th>\n",
       "      <td>0.02</td>\n",
       "      <td>-0.03</td>\n",
       "      <td>-0.01</td>\n",
       "      <td>NaN</td>\n",
       "      <td>-0.12</td>\n",
       "      <td>NaN</td>\n",
       "      <td>1.00</td>\n",
       "      <td>0.01</td>\n",
       "      <td>-0.03</td>\n",
       "      <td>0.00</td>\n",
       "      <td>-0.03</td>\n",
       "    </tr>\n",
       "    <tr>\n",
       "      <th>review_id</th>\n",
       "      <td>0.01</td>\n",
       "      <td>-0.00</td>\n",
       "      <td>-0.01</td>\n",
       "      <td>NaN</td>\n",
       "      <td>-0.00</td>\n",
       "      <td>NaN</td>\n",
       "      <td>0.01</td>\n",
       "      <td>1.00</td>\n",
       "      <td>-0.01</td>\n",
       "      <td>0.00</td>\n",
       "      <td>-0.01</td>\n",
       "    </tr>\n",
       "    <tr>\n",
       "      <th>date</th>\n",
       "      <td>0.01</td>\n",
       "      <td>0.01</td>\n",
       "      <td>0.00</td>\n",
       "      <td>NaN</td>\n",
       "      <td>-0.00</td>\n",
       "      <td>NaN</td>\n",
       "      <td>-0.03</td>\n",
       "      <td>-0.01</td>\n",
       "      <td>1.00</td>\n",
       "      <td>-0.03</td>\n",
       "      <td>1.00</td>\n",
       "    </tr>\n",
       "    <tr>\n",
       "      <th>text</th>\n",
       "      <td>0.02</td>\n",
       "      <td>-0.04</td>\n",
       "      <td>-0.01</td>\n",
       "      <td>NaN</td>\n",
       "      <td>-0.00</td>\n",
       "      <td>NaN</td>\n",
       "      <td>0.00</td>\n",
       "      <td>0.00</td>\n",
       "      <td>-0.03</td>\n",
       "      <td>1.00</td>\n",
       "      <td>-0.03</td>\n",
       "    </tr>\n",
       "    <tr>\n",
       "      <th>month</th>\n",
       "      <td>0.01</td>\n",
       "      <td>0.01</td>\n",
       "      <td>0.00</td>\n",
       "      <td>NaN</td>\n",
       "      <td>0.00</td>\n",
       "      <td>NaN</td>\n",
       "      <td>-0.03</td>\n",
       "      <td>-0.01</td>\n",
       "      <td>1.00</td>\n",
       "      <td>-0.03</td>\n",
       "      <td>1.00</td>\n",
       "    </tr>\n",
       "  </tbody>\n",
       "</table>\n",
       "</div>"
      ],
      "text/plain": [
       "              business_id  stars  city  state  review_count  is_open  \\\n",
       "business_id          1.00   0.01  0.06    NaN          0.04      NaN   \n",
       "stars                0.01   1.00  0.12    NaN          0.14      NaN   \n",
       "city                 0.06   0.12  1.00    NaN          0.24      NaN   \n",
       "state                 NaN    NaN   NaN    NaN           NaN      NaN   \n",
       "review_count         0.04   0.14  0.24    NaN          1.00      NaN   \n",
       "is_open               NaN    NaN   NaN    NaN           NaN      NaN   \n",
       "categories           0.02  -0.03 -0.01    NaN         -0.12      NaN   \n",
       "review_id            0.01  -0.00 -0.01    NaN         -0.00      NaN   \n",
       "date                 0.01   0.01  0.00    NaN         -0.00      NaN   \n",
       "text                 0.02  -0.04 -0.01    NaN         -0.00      NaN   \n",
       "month                0.01   0.01  0.00    NaN          0.00      NaN   \n",
       "\n",
       "              categories  review_id  date  text  month  \n",
       "business_id         0.02       0.01  0.01  0.02   0.01  \n",
       "stars              -0.03      -0.00  0.01 -0.04   0.01  \n",
       "city               -0.01      -0.01  0.00 -0.01   0.00  \n",
       "state                NaN        NaN   NaN   NaN    NaN  \n",
       "review_count       -0.12      -0.00 -0.00 -0.00   0.00  \n",
       "is_open              NaN        NaN   NaN   NaN    NaN  \n",
       "categories          1.00       0.01 -0.03  0.00  -0.03  \n",
       "review_id           0.01       1.00 -0.01  0.00  -0.01  \n",
       "date               -0.03      -0.01  1.00 -0.03   1.00  \n",
       "text                0.00       0.00 -0.03  1.00  -0.03  \n",
       "month              -0.03      -0.01  1.00 -0.03   1.00  "
      ]
     },
     "execution_count": 18,
     "metadata": {},
     "output_type": "execute_result"
    }
   ],
   "source": [
    "cormat = df.corr()\n",
    "round(cormat, 2)"
   ]
  },
  {
   "cell_type": "markdown",
   "metadata": {},
   "source": [
    "##### Correlation Matrix to Heat Map"
   ]
  },
  {
   "cell_type": "code",
   "execution_count": 19,
   "metadata": {},
   "outputs": [
    {
     "data": {
      "image/png": "[encoded data removed]",
      "text/plain": [
       "<Figure size 432x288 with 2 Axes>"
      ]
     },
     "metadata": {
      "needs_background": "light"
     },
     "output_type": "display_data"
    }
   ],
   "source": [
    "sns.heatmap(cormat)\n",
    "plt.savefig('output5.png', dpi = 250, bbox_inches = 'tight')"
   ]
  },
  {
   "cell_type": "markdown",
   "metadata": {},
   "source": [
    "###### From the above correlation analysis we can conclude the following:\n",
    ">###### - There are no attributes that have a high liner correlation\n",
    ">###### - The following attributes have a low linear correlation: \n",
    ">>######  - Stars and review count and stars and city have a correlation of 0.2\n",
    ">>######  - City and review_count have a correlation of 0.3"
   ]
  },
  {
   "cell_type": "markdown",
   "metadata": {},
   "source": [
    "##### Boxplot of Attributes"
   ]
  },
  {
   "cell_type": "code",
   "execution_count": 20,
   "metadata": {},
   "outputs": [
    {
     "data": {
      "image/png": "[encoded data removed]",
      "text/plain": [
       "<Figure size 720x360 with 1 Axes>"
      ]
     },
     "metadata": {
      "needs_background": "light"
     },
     "output_type": "display_data"
    }
   ],
   "source": [
    "plt.figure(figsize = (10, 5))\n",
    "sns.boxenplot(data = df,color = \"skyblue\")\n",
    "plt.xticks(rotation = 90)\n",
    "plt.savefig('output6.png', dpi = 250, bbox_inches = 'tight')\n",
    "plt.show()"
   ]
  },
  {
   "cell_type": "markdown",
   "metadata": {},
   "source": [
    "##### Histogram of Attributes"
   ]
  },
  {
   "cell_type": "code",
   "execution_count": 21,
   "metadata": {},
   "outputs": [
    {
     "name": "stderr",
     "output_type": "stream",
     "text": [
      "/opt/conda/lib/python3.7/site-packages/ipykernel_launcher.py:3: UserWarning: To output multiple subplots, the figure containing the passed axes is being cleared\n",
      "  This is separate from the ipykernel package so we can avoid doing imports until\n"
     ]
    },
    {
     "data": {
      "image/png": "[encoded data removed]",
      "text/plain": [
       "<Figure size 720x720 with 12 Axes>"
      ]
     },
     "metadata": {
      "needs_background": "light"
     },
     "output_type": "display_data"
    }
   ],
   "source": [
    "dfx = df.drop(columns = ['stars'])\n",
    "fig, ax = plt.subplots(1, 1, figsize = (10, 10))\n",
    "dfx.hist(ax = ax, color = 'skyblue')\n",
    "plt.savefig('output7.png', dpi = 250, bbox_inches = 'tight')\n",
    "plt.show()"
   ]
  },
  {
   "cell_type": "markdown",
   "metadata": {},
   "source": [
    "##### Distribution of Star Ratings for Each City"
   ]
  },
  {
   "cell_type": "code",
   "execution_count": 22,
   "metadata": {},
   "outputs": [
    {
     "data": {
      "image/png": "[encoded data removed]",
      "text/plain": [
       "<Figure size 720x576 with 1 Axes>"
      ]
     },
     "metadata": {
      "needs_background": "light"
     },
     "output_type": "display_data"
    }
   ],
   "source": [
    "plot1 = pd.crosstab(df['city'], df['stars'])\n",
    "plot1.plot(kind = 'bar', stacked = True, figsize = (10, 8), color = ['lightblue', 'lightgreen', 'green', 'darkblue', 'darkgreen'])\n",
    "plt.title('City vs Stars')\n",
    "plt.xlabel(\"City\")\n",
    "plt.ylabel(\"Stars\")\n",
    "plt.savefig('output8.png', dpi = 250, bbox_inches = 'tight')\n",
    "plt.show()"
   ]
  },
  {
   "cell_type": "markdown",
   "metadata": {},
   "source": [
    "##### Distribution for Review Count Attribute"
   ]
  },
  {
   "cell_type": "code",
   "execution_count": 23,
   "metadata": {},
   "outputs": [
    {
     "data": {
      "image/png": "[encoded data removed]",
      "text/plain": [
       "<Figure size 432x288 with 1 Axes>"
      ]
     },
     "metadata": {
      "needs_background": "light"
     },
     "output_type": "display_data"
    }
   ],
   "source": [
    "p = sns.distplot(df['review_count'], bins = 20)\n",
    "p.set_xlabel(\"Review Count\")\n",
    "plt.savefig('output9.png', dpi = 250, bbox_inches = 'tight')"
   ]
  },
  {
   "cell_type": "markdown",
   "metadata": {},
   "source": [
    "##### Checking the Distribution of Review Count by City"
   ]
  },
  {
   "cell_type": "code",
   "execution_count": 24,
   "metadata": {},
   "outputs": [
    {
     "data": {
      "image/png": "[encoded data removed]",
      "text/plain": [
       "<Figure size 432x288 with 1 Axes>"
      ]
     },
     "metadata": {
      "needs_background": "light"
     },
     "output_type": "display_data"
    }
   ],
   "source": [
    "plt.subplot(1, 1, 1)\n",
    "sns.countplot(df['city'], palette = 'Blues')\n",
    "plt.title('Review Count by City', fontsize = 15)\n",
    "plt.xlabel('City', fontsize = 10)\n",
    "plt.ylabel('Review Count', fontsize = 10)\n",
    "plt.savefig('output10.png', dpi = 250, bbox_inches = 'tight')"
   ]
  },
  {
   "cell_type": "markdown",
   "metadata": {},
   "source": [
    "##### Checking the Distribution of Review Count by Month"
   ]
  },
  {
   "cell_type": "code",
   "execution_count": 25,
   "metadata": {},
   "outputs": [
    {
     "data": {
      "image/png": "[encoded data removed]",
      "text/plain": [
       "<Figure size 432x288 with 1 Axes>"
      ]
     },
     "metadata": {
      "needs_background": "light"
     },
     "output_type": "display_data"
    }
   ],
   "source": [
    "plt.subplot(1, 1, 1)\n",
    "sns.countplot(df['month'], palette = 'Blues')\n",
    "plt.title('Review Count by Month', fontsize = 15)\n",
    "plt.xlabel('Month', fontsize = 10)\n",
    "plt.ylabel('Review Count', fontsize = 10)\n",
    "plt.savefig('output11.png', dpi = 250, bbox_inches = 'tight')"
   ]
  },
  {
   "cell_type": "code",
   "execution_count": null,
   "metadata": {},
   "outputs": [],
   "source": []
  }
 ],
 "metadata": {
  "kernelspec": {
   "display_name": "Python 3",
   "language": "python",
   "name": "python3"
  },
  "language_info": {
   "codemirror_mode": {
    "name": "ipython",
    "version": 3
   },
   "file_extension": ".py",
   "mimetype": "text/x-python",
   "name": "python",
   "nbconvert_exporter": "python",
   "pygments_lexer": "ipython3",
   "version": "3.7.6"
  }
 },
 "nbformat": 4,
 "nbformat_minor": 4
}
